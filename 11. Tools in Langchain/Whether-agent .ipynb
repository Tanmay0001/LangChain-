{
 "cells": [
  {
   "cell_type": "code",
   "execution_count": null,
   "id": "25c6e1aa",
   "metadata": {},
   "outputs": [],
   "source": [
    "from langchain_openai import ChatOpenAI\n",
    "from langchain_core.tools import tool\n",
    "import requests"
   ]
  },
  {
   "cell_type": "code",
   "execution_count": 2,
   "id": "8cd0eb92",
   "metadata": {},
   "outputs": [],
   "source": [
    "from langchain_community.tools import DuckDuckGoSearchRun\n",
    "\n",
    "search_tool = DuckDuckGoSearchRun()"
   ]
  },
  {
   "cell_type": "code",
   "execution_count": 3,
   "id": "9cfce500",
   "metadata": {},
   "outputs": [],
   "source": [
    "@tool\n",
    "def get_weather_date(city:str) -> str:\n",
    "    \"\"\"\n",
    "    This function fetches the current weather data for a given city\n",
    "    \"\"\"\n",
    "    api_key = \"4202402929acf82f4fcf7ecceaa5605c\"\n",
    "    url = f\"https://api.weatherstack.com/current?access_key={api_key}&query={city}\"\n",
    "    response = requests.get(url)\n",
    "    return response.json()"
   ]
  },
  {
   "cell_type": "code",
   "execution_count": 4,
   "id": "d9245521",
   "metadata": {},
   "outputs": [],
   "source": [
    "llm = ChatOpenAI()"
   ]
  },
  {
   "cell_type": "code",
   "execution_count": 8,
   "id": "2300d5a8",
   "metadata": {},
   "outputs": [],
   "source": [
    "from langchain import hub"
   ]
  },
  {
   "cell_type": "code",
   "execution_count": 10,
   "id": "5b693cf7",
   "metadata": {},
   "outputs": [
    {
     "name": "stderr",
     "output_type": "stream",
     "text": [
      "d:\\Langchain models\\venv\\lib\\site-packages\\langsmith\\client.py:280: LangSmithMissingAPIKeyWarning: API key must be provided when using hosted LangSmith API\n",
      "  warnings.warn(\n"
     ]
    }
   ],
   "source": [
    "# Step 2: pull the react prompt from LAngchain Hub\n",
    "\n",
    "prompt = hub.pull(\"hwchase17/react\")  "
   ]
  },
  {
   "cell_type": "code",
   "execution_count": 20,
   "id": "c7c16b19",
   "metadata": {},
   "outputs": [],
   "source": [
    "from langchain_community.tools import DuckDuckGoSearchRun\n",
    "from langchain.tools import Tool\n",
    "\n",
    "search_tool = DuckDuckGoSearchRun()\n",
    "search_tool.name = \"Search\"  # Must match what the agent expects\n",
    "\n",
    "weather_tool = Tool(\n",
    "    name=\"Lookup\",  # Must match what the agent expects\n",
    "    func=get_weather_date,\n",
    "    description=\"Use this tool to get current weather for a city\"\n",
    ")\n"
   ]
  },
  {
   "cell_type": "code",
   "execution_count": 23,
   "id": "903a2a30",
   "metadata": {},
   "outputs": [],
   "source": [
    "# step 3: wrap up it in with Agent\n",
    "\n",
    "agent = initialize_agent(\n",
    "    tools=[search_tool, get_weather_date],\n",
    "    llm=llm,\n",
    "    agent=\"zero-shot-react-description\",\n",
    "    verbose=True\n",
    ")\n"
   ]
  },
  {
   "cell_type": "code",
   "execution_count": 24,
   "id": "54e33f56",
   "metadata": {},
   "outputs": [
    {
     "name": "stdout",
     "output_type": "stream",
     "text": [
      "\n",
      "\n",
      "\u001b[1m> Entering new AgentExecutor chain...\u001b[0m\n",
      "\u001b[32;1m\u001b[1;3mWe first need to find the capital of Madhya Pradesh and then get the current weather data for that city.\n",
      "Action: Search\n",
      "Action Input: Capital of Madhya Pradesh\u001b[0m"
     ]
    },
    {
     "name": "stderr",
     "output_type": "stream",
     "text": [
      "d:\\Langchain models\\venv\\lib\\site-packages\\langchain_community\\utilities\\duckduckgo_search.py:63: RuntimeWarning: This package (`duckduckgo_search`) has been renamed to `ddgs`! Use `pip install ddgs` instead.\n",
      "  with DDGS() as ddgs:\n"
     ]
    },
    {
     "name": "stdout",
     "output_type": "stream",
     "text": [
      "\n",
      "Observation: \u001b[36;1m\u001b[1;3mNo good DuckDuckGo Search Result was found\u001b[0m\n",
      "Thought:\u001b[32;1m\u001b[1;3mI'll try searching again with a more specific query\n",
      "Action: Search\n",
      "Action Input: Capital of Madhya Pradesh state in India\u001b[0m"
     ]
    },
    {
     "name": "stderr",
     "output_type": "stream",
     "text": [
      "d:\\Langchain models\\venv\\lib\\site-packages\\langchain_community\\utilities\\duckduckgo_search.py:63: RuntimeWarning: This package (`duckduckgo_search`) has been renamed to `ddgs`! Use `pip install ddgs` instead.\n",
      "  with DDGS() as ddgs:\n"
     ]
    },
    {
     "name": "stdout",
     "output_type": "stream",
     "text": [
      "\n",
      "Observation: \u001b[36;1m\u001b[1;3m如何评价天壹资本（Skycus Capital）？ 和高瓴，kkr等一线PE如何对比？ 和其他博裕，CPE，DCP等对比如何？ 补充说明一个 … Jun 27, 2019 · Here's what is human capital. There's nothing more positive in economics than investing in people. But how do you … Mar 14, 2013 · Is it ever correct to write \"Government\" without \"the\" and with a capital G? Let's say both the writer and … May 19, 2014 · Hi, What's the correct abbreviation for kilowatt? I have 18 KW in a text I'm proofreading. Is it A. 18 KW B. 18 … Mar 24, 2025 · The long-envisioned integration of traditional financial systems with blockchain technology is now …\u001b[0m\n",
      "Thought:\u001b[32;1m\u001b[1;3mI should try a more direct search query\n",
      "Action: Search\n",
      "Action Input: Bhopal capital of Madhya Pradesh\u001b[0m"
     ]
    },
    {
     "name": "stderr",
     "output_type": "stream",
     "text": [
      "d:\\Langchain models\\venv\\lib\\site-packages\\langchain_community\\utilities\\duckduckgo_search.py:63: RuntimeWarning: This package (`duckduckgo_search`) has been renamed to `ddgs`! Use `pip install ddgs` instead.\n",
      "  with DDGS() as ddgs:\n"
     ]
    },
    {
     "name": "stdout",
     "output_type": "stream",
     "text": [
      "\n",
      "Observation: \u001b[36;1m\u001b[1;3mFlourishing around 1707, the city was the capital of the former Bhopal State, a princely state of the British ruled by the Nawabs of Bhopal until India's independence in 1947. India achieved … See most popular tourist places to visit in Bhopal, top things to do, shopping and nightlife in Bhopal, find entry timings, fees about various attractions in Bhopal, Madhya Pradesh Explore the best tourist places to visit in Bhopal, including historic landmarks, scenic lakes, cultural sites, and top tourist attractions for an unforgettable trip. Aug 25, 2025 · India’s heartland of the year Madhya Pradesh State’s heartland Bhopal district was formed in the year 1972. Bhopal is a district of Indian state of Madhya Pradesh. The … Explore top places to visit in Bhopal, like Moti Masjid, Upper Lake, Bhimbetka Caves & Raisen Fort, and enjoy its rich history, culture & natural beauty.\u001b[0m\n",
      "Thought:\u001b[32;1m\u001b[1;3mNow that we know the capital of Madhya Pradesh is Bhopal, I will fetch the current weather data for Bhopal.\n",
      "Action: get_weather_date\n",
      "Action Input: Bhopal\u001b[0m\n",
      "Observation: \u001b[33;1m\u001b[1;3m{'request': {'type': 'City', 'query': 'Bhopal, India', 'language': 'en', 'unit': 'm'}, 'location': {'name': 'Bhopal', 'country': 'India', 'region': 'Madhya Pradesh', 'lat': '23.267', 'lon': '77.400', 'timezone_id': 'Asia/Kolkata', 'localtime': '2025-09-04 17:58', 'localtime_epoch': 1757008680, 'utc_offset': '5.50'}, 'current': {'observation_time': '12:28 PM', 'temperature': 28, 'weather_code': 143, 'weather_icons': ['https://cdn.worldweatheronline.com/images/wsymbols01_png_64/wsymbol_0006_mist.png'], 'weather_descriptions': ['Haze'], 'astro': {'sunrise': '06:03 AM', 'sunset': '06:35 PM', 'moonrise': '04:23 PM', 'moonset': '02:19 AM', 'moon_phase': 'Waxing Gibbous', 'moon_illumination': 84}, 'air_quality': {'co': '451.4', 'no2': '2.22', 'o3': '101', 'so2': '4.255', 'pm2_5': '20.165', 'pm10': '20.35', 'us-epa-index': '2', 'gb-defra-index': '2'}, 'wind_speed': 15, 'wind_degree': 192, 'wind_dir': 'SSW', 'pressure': 1001, 'precip': 1.4, 'humidity': 70, 'cloudcover': 75, 'feelslike': 36, 'uv_index': 0, 'visibility': 5, 'is_day': 'yes'}}\u001b[0m\n",
      "Thought:\u001b[32;1m\u001b[1;3mThe capital of Madhya Pradesh is Bhopal and the current weather condition in Bhopal is Haze with a temperature of 28°C. The humidity is 70% and the wind speed is 15 km/h coming from SSW.\n",
      "Final Answer: The capital of Madhya Pradesh is Bhopal and the current weather condition in Bhopal is Haze with a temperature of 28°C.\u001b[0m\n",
      "\n",
      "\u001b[1m> Finished chain.\u001b[0m\n",
      "{'input': 'Find the capital of Madhya Pradesh, then find its current weather condition', 'output': 'The capital of Madhya Pradesh is Bhopal and the current weather condition in Bhopal is Haze with a temperature of 28°C.'}\n"
     ]
    }
   ],
   "source": [
    "# step5: Invoke\n",
    "\n",
    "response = agent.invoke({\"input\": \"Find the capital of Madhya Pradesh, then find its current weather condition\"})\n",
    "print(response)"
   ]
  },
  {
   "cell_type": "code",
   "execution_count": 25,
   "id": "f16e3d6d",
   "metadata": {},
   "outputs": [
    {
     "data": {
      "text/plain": [
       "'The capital of Madhya Pradesh is Bhopal and the current weather condition in Bhopal is Haze with a temperature of 28°C.'"
      ]
     },
     "execution_count": 25,
     "metadata": {},
     "output_type": "execute_result"
    }
   ],
   "source": [
    "response['output']"
   ]
  },
  {
   "cell_type": "code",
   "execution_count": null,
   "id": "fce0220d",
   "metadata": {},
   "outputs": [],
   "source": []
  }
 ],
 "metadata": {
  "kernelspec": {
   "display_name": "venv",
   "language": "python",
   "name": "python3"
  },
  "language_info": {
   "codemirror_mode": {
    "name": "ipython",
    "version": 3
   },
   "file_extension": ".py",
   "mimetype": "text/x-python",
   "name": "python",
   "nbconvert_exporter": "python",
   "pygments_lexer": "ipython3",
   "version": "3.10.11"
  }
 },
 "nbformat": 4,
 "nbformat_minor": 5
}
