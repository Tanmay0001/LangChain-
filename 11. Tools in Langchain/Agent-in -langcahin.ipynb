{
 "cells": [
  {
   "cell_type": "code",
   "execution_count": 1,
   "id": "c76ebacd",
   "metadata": {},
   "outputs": [],
   "source": [
    "from langchain_openai import ChatOpenAI\n",
    "from langchain_core.tools import tool\n",
    "import requests"
   ]
  },
  {
   "cell_type": "code",
   "execution_count": 7,
   "id": "0af0f880",
   "metadata": {},
   "outputs": [
    {
     "name": "stderr",
     "output_type": "stream",
     "text": [
      "d:\\Langchain models\\venv\\lib\\site-packages\\langchain_community\\utilities\\duckduckgo_search.py:63: RuntimeWarning: This package (`duckduckgo_search`) has been renamed to `ddgs`! Use `pip install ddgs` instead.\n",
      "  with DDGS() as ddgs:\n"
     ]
    }
   ],
   "source": [
    "from langchain_community.tools import DuckDuckGoSearchRun\n",
    "\n",
    "search_tool = DuckDuckGoSearchRun()\n",
    "\n",
    "results = search_tool.invoke('top news in india today')"
   ]
  },
  {
   "cell_type": "code",
   "execution_count": 8,
   "id": "82942e33",
   "metadata": {},
   "outputs": [
    {
     "data": {
      "text/plain": [
       "\"Check today's top 10 news stories, headline news, breaking news, latest news, politics news, sports news, entertainment news and … Check out the latest news from India and around the world. Latest India news on Bollywood, Politics, Business, Cricket, Technology and … 4 days ago · Top News Stories of the day, Latest News Headlines, News Specials, Breaking News and Latest India News, World current affairs & … News Headlines Today: Hindustan Times offers the most reliable news in politics, sports, entertainment and business, featuring National … Aug 8, 2002 · Today's news: Get latest and Breaking News on Politics, Business, Lifestyle, Entertainment and Sports along with News …\""
      ]
     },
     "execution_count": 8,
     "metadata": {},
     "output_type": "execute_result"
    }
   ],
   "source": [
    "results"
   ]
  },
  {
   "cell_type": "code",
   "execution_count": 11,
   "id": "be7427a8",
   "metadata": {},
   "outputs": [],
   "source": [
    "llm = ChatOpenAI()"
   ]
  },
  {
   "cell_type": "code",
   "execution_count": 12,
   "id": "bbcea1e2",
   "metadata": {},
   "outputs": [
    {
     "data": {
      "text/plain": [
       "AIMessage(content='Hello! How can I help you today?', additional_kwargs={'refusal': None}, response_metadata={'token_usage': {'completion_tokens': 9, 'prompt_tokens': 8, 'total_tokens': 17, 'completion_tokens_details': {'accepted_prediction_tokens': 0, 'audio_tokens': 0, 'reasoning_tokens': 0, 'rejected_prediction_tokens': 0}, 'prompt_tokens_details': {'audio_tokens': 0, 'cached_tokens': 0}}, 'model_name': 'gpt-3.5-turbo-0125', 'system_fingerprint': None, 'id': 'chatcmpl-CByokfxCGVTt8BSGhIl39pG2AmTpP', 'finish_reason': 'stop', 'logprobs': None}, id='run-839a6098-ac45-4ab0-ac16-2d7d54b1a3b3-0', usage_metadata={'input_tokens': 8, 'output_tokens': 9, 'total_tokens': 17, 'input_token_details': {'audio': 0, 'cache_read': 0}, 'output_token_details': {'audio': 0, 'reasoning': 0}})"
      ]
     },
     "execution_count": 12,
     "metadata": {},
     "output_type": "execute_result"
    }
   ],
   "source": [
    "llm.invoke('hi')"
   ]
  },
  {
   "cell_type": "code",
   "execution_count": 13,
   "id": "f8f61e67",
   "metadata": {},
   "outputs": [],
   "source": [
    "from langchain.agents import create_react_agent, AgentExecutor\n",
    "from langchain import hub"
   ]
  },
  {
   "cell_type": "code",
   "execution_count": 14,
   "id": "c6e40051",
   "metadata": {},
   "outputs": [
    {
     "name": "stderr",
     "output_type": "stream",
     "text": [
      "d:\\Langchain models\\venv\\lib\\site-packages\\langsmith\\client.py:280: LangSmithMissingAPIKeyWarning: API key must be provided when using hosted LangSmith API\n",
      "  warnings.warn(\n"
     ]
    }
   ],
   "source": [
    "# step 2: pulling the React prompt from langcahin hub\n",
    "prompt = hub.pull(\"hwchase17/react\")  # pulls teh react agent prompt"
   ]
  },
  {
   "cell_type": "code",
   "execution_count": 16,
   "id": "c607b949",
   "metadata": {},
   "outputs": [],
   "source": [
    "# step 3: Create React agent manually with teh pulled prompt\n",
    "agent = create_react_agent(\n",
    "    llm=llm,\n",
    "    tools=[search_tool],\n",
    "    prompt=prompt\n",
    ")"
   ]
  },
  {
   "cell_type": "code",
   "execution_count": 17,
   "id": "a9bc2008",
   "metadata": {},
   "outputs": [],
   "source": [
    "# step 4:  wrap it with AgentExecuter\n",
    "aegn_executor = AgentExecutor(\n",
    "    agent=agent,\n",
    "    tools=[search_tool],\n",
    "    verbose=True\n",
    ")"
   ]
  },
  {
   "cell_type": "code",
   "execution_count": 19,
   "id": "e2a181be",
   "metadata": {},
   "outputs": [
    {
     "name": "stdout",
     "output_type": "stream",
     "text": [
      "\n",
      "\n",
      "\u001b[1m> Entering new AgentExecutor chain...\u001b[0m\n",
      "\u001b[32;1m\u001b[1;3mYou should search for the most common methods of transportation from Bengaluru to Goa.\n",
      "Action: duckduckgo_search\n",
      "Action Input: \"3 ways to reach Goa from Bengaluru\"\u001b[0m"
     ]
    },
    {
     "name": "stderr",
     "output_type": "stream",
     "text": [
      "d:\\Langchain models\\venv\\lib\\site-packages\\langchain_community\\utilities\\duckduckgo_search.py:63: RuntimeWarning: This package (`duckduckgo_search`) has been renamed to `ddgs`! Use `pip install ddgs` instead.\n",
      "  with DDGS() as ddgs:\n"
     ]
    },
    {
     "name": "stdout",
     "output_type": "stream",
     "text": [
      "\u001b[36;1m\u001b[1;3m3 (three) is a number, numeral and digit. It is the natural number following 2 and preceding 4, and is the smallest odd prime number and the only … Watch Nee Paartha Vizhigal Official Song Video from the Movie 3 Song Name - Nee Paartha Vizhigal...more. Learn about Android’s best features and find your perfect smartphone. Meet the next generation of AI glasses. The Ray-Ban Meta collection … Three is the first odd prime number, and the second smallest prime. It is both the first Fermat prime (2 2º + 1) and the first Mersenne prime … The number 3 is a very mystical and spiritual number featured in many folktales (three wishes, three guesses, three little pigs, three bears, …\u001b[0m\u001b[32;1m\u001b[1;3mThis search result is not helpful in answering the question.\n",
      "Action: duckduckgo_search\n",
      "Action Input: \"best ways to reach Goa from Bengaluru\"\u001b[0m"
     ]
    },
    {
     "name": "stderr",
     "output_type": "stream",
     "text": [
      "d:\\Langchain models\\venv\\lib\\site-packages\\langchain_community\\utilities\\duckduckgo_search.py:63: RuntimeWarning: This package (`duckduckgo_search`) has been renamed to `ddgs`! Use `pip install ddgs` instead.\n",
      "  with DDGS() as ddgs:\n"
     ]
    },
    {
     "name": "stdout",
     "output_type": "stream",
     "text": [
      "\u001b[36;1m\u001b[1;3m2、追光者超级Live 追光者超级Live是我强烈推荐的直播TV APP，内置了稳定且丰富的直播源，使用体验非常不错。支持大陆央视、卫视高清节目、数字频道、地方节目、HBO、部分港台节目，在体验方 … 4 days ago · 桌面端CPU综合性能天梯图，提供最新的CPU性能排名和对比信息，帮助用户了解不同型号的表现和选择适合自己的产品。 4 days ago · 1080P/2K/4K分辨率，以RTX 5050为基准（25款主流游戏测试成绩取平均值） 数据来源于：TechPowerUp 桌面端显卡天梯图： Best wishes 和 Best regards 有什么区别?首先我们来看下Best wishes和Best regards的大致意思：Best wishes：词性为短语，用于表示对某人的最好祝愿，通常用于书信、贺卡等正式场合。Best … 要我推的话Windows端就vs code里面的terminal和Windows terminal了，这是两都是微软为数不多的超级良心软件。Windows terminal你觉得不好用的话，那你可以试试vs code里面的terminal，个人感 …\u001b[0m\u001b[32;1m\u001b[1;3mThe search results are not relevant to the question.\n",
      "Action: duckduckgo_search\n",
      "Action Input: \"best ways to travel from Bengaluru to Goa\"\u001b[0m"
     ]
    },
    {
     "name": "stderr",
     "output_type": "stream",
     "text": [
      "d:\\Langchain models\\venv\\lib\\site-packages\\langchain_community\\utilities\\duckduckgo_search.py:63: RuntimeWarning: This package (`duckduckgo_search`) has been renamed to `ddgs`! Use `pip install ddgs` instead.\n",
      "  with DDGS() as ddgs:\n"
     ]
    },
    {
     "name": "stdout",
     "output_type": "stream",
     "text": [
      "\u001b[36;1m\u001b[1;3mNo good DuckDuckGo Search Result was found\u001b[0m\u001b[32;1m\u001b[1;3mI need to search for a different query to find the best ways to travel from Bengaluru to Goa.\n",
      "Action: duckduckgo_search\n",
      "Action Input: \"best modes of transportation from Bengaluru to Goa\"\u001b[0m"
     ]
    },
    {
     "name": "stderr",
     "output_type": "stream",
     "text": [
      "d:\\Langchain models\\venv\\lib\\site-packages\\langchain_community\\utilities\\duckduckgo_search.py:63: RuntimeWarning: This package (`duckduckgo_search`) has been renamed to `ddgs`! Use `pip install ddgs` instead.\n",
      "  with DDGS() as ddgs:\n"
     ]
    },
    {
     "name": "stdout",
     "output_type": "stream",
     "text": [
      "\u001b[36;1m\u001b[1;3mGet Kingston, ON current weather report with temperature, feels like, wind, humidity, pressure, UV and more from TheWeatherNetwork.com. 2 days ago · The Historical Climate Data website provides a Historical data search and download for past Canadian hourly, daily and monthly … Kingston, Ontario, Canada Weather Forecast, with current conditions, wind, air quality, and what to expect for the next 3 days. See the Kingston, ON extended weather forecast including feels like temperature, wind gust and chance of rain or snow from … 14-day weather forecast for Kingston upon Thames.\u001b[0m\u001b[32;1m\u001b[1;3mThe search results are still not relevant to the question.\n",
      "Action: duckduckgo_search\n",
      "Action Input: \"best ways to travel from Bengaluru to Goa\"\u001b[0m"
     ]
    },
    {
     "name": "stderr",
     "output_type": "stream",
     "text": [
      "d:\\Langchain models\\venv\\lib\\site-packages\\langchain_community\\utilities\\duckduckgo_search.py:63: RuntimeWarning: This package (`duckduckgo_search`) has been renamed to `ddgs`! Use `pip install ddgs` instead.\n",
      "  with DDGS() as ddgs:\n"
     ]
    },
    {
     "name": "stdout",
     "output_type": "stream",
     "text": [
      "\u001b[36;1m\u001b[1;3mJun 17, 2025 · Bangalore to Goa road trip is a lovely experience. Check out these five spectacular routes with all the details. Pick any and enjoy the drive!Monsoon drive in Western Ghats is an exhilarating experience. This road trip to …Monsoon Magic. Yes. We experienced it. Check out this photo essay on how we …Amboli ghat on the way to Goa from Belgaum is mesmerising in monsoon. …Davangere benne dosa or Davangere butter dosa is a well known dosa popularised by … Nov 12, 2024 · Bangalore to Goa road trip guide: Itinerary, best places, stay tips, villas in Goa, & travel routes. Plan your perfect trip to Goa seamlessly! May 6, 2025 · Go on a Bangalore to Goa road trip and enjoy the best of scenic routes, breathtaking waterfalls and beaches, historical landmarks, and its coastal beauty. Feb 5, 2025 · Embark on a scenic Bangalore to Goa road trip! Discover lush landscapes, cultural delights, and historical landmarks along the way. Jan 1, 2025 · In this guide, I’ll share the 8 best ways to travel from Delhi to Bangalore in 2025, including direct flights, train routes, bus services, and even some creative combinations that …\u001b[0m\u001b[32;1m\u001b[1;3mThe search finally provided relevant information about the best ways to travel from Bengaluru to Goa, and it mentions a road trip as a lovely experience.\n",
      "Final Answer: The best way to travel from Bengaluru to Goa is through a road trip.\u001b[0m\n",
      "\n",
      "\u001b[1m> Finished chain.\u001b[0m\n",
      "{'input': '3 ways to reach Goa from Bengaluru', 'output': 'The best way to travel from Bengaluru to Goa is through a road trip.'}\n"
     ]
    }
   ],
   "source": [
    "# Step 5: invoke\n",
    "response = aegn_executor.invoke({\"input\": \"3 ways to reach Goa from Bengaluru\"}, region=\"in-en\")\n",
    "print(response)"
   ]
  },
  {
   "cell_type": "code",
   "execution_count": 21,
   "id": "4649b13c",
   "metadata": {},
   "outputs": [
    {
     "data": {
      "text/plain": [
       "'The best way to travel from Bengaluru to Goa is through a road trip.'"
      ]
     },
     "execution_count": 21,
     "metadata": {},
     "output_type": "execute_result"
    }
   ],
   "source": [
    "response['output']"
   ]
  },
  {
   "cell_type": "code",
   "execution_count": null,
   "id": "23c0c42f",
   "metadata": {},
   "outputs": [],
   "source": []
  }
 ],
 "metadata": {
  "kernelspec": {
   "display_name": "venv",
   "language": "python",
   "name": "python3"
  },
  "language_info": {
   "codemirror_mode": {
    "name": "ipython",
    "version": 3
   },
   "file_extension": ".py",
   "mimetype": "text/x-python",
   "name": "python",
   "nbconvert_exporter": "python",
   "pygments_lexer": "ipython3",
   "version": "3.10.11"
  }
 },
 "nbformat": 4,
 "nbformat_minor": 5
}
