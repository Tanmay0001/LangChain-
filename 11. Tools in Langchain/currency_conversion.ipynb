{
 "cells": [
  {
   "cell_type": "code",
   "execution_count": 26,
   "id": "68a02153",
   "metadata": {},
   "outputs": [],
   "source": [
    "from langchain_openai import ChatOpenAI\n",
    "from langchain_core.tools import tool\n",
    "from langchain_core.messages import HumanMessage\n",
    "from typing import Annotated\n",
    "import requests"
   ]
  },
  {
   "cell_type": "code",
   "execution_count": 24,
   "id": "707d56c6",
   "metadata": {},
   "outputs": [],
   "source": [
    "# tool creation\n",
    "\n",
    "@tool\n",
    "def get_conversion_factor(base_currency: str, target_currency: str) -> float:\n",
    "    \"\"\"This function fetches the currency conversion factor between given base currency and a target currency\"\"\"\n",
    "    url = f'https://v6.exchangerate-api.com/v6/4ea038bf196f0c1379803760/pair/{base_currency}/{target_currency}'\n",
    "    response = requests.get(url)\n",
    "    return response.json()"
   ]
  },
  {
   "cell_type": "code",
   "execution_count": 4,
   "id": "e1dcffb6",
   "metadata": {},
   "outputs": [
    {
     "data": {
      "text/plain": [
       "{'result': 'success',\n",
       " 'documentation': 'https://www.exchangerate-api.com/docs',\n",
       " 'terms_of_use': 'https://www.exchangerate-api.com/terms',\n",
       " 'time_last_update_unix': 1756857601,\n",
       " 'time_last_update_utc': 'Wed, 03 Sep 2025 00:00:01 +0000',\n",
       " 'time_next_update_unix': 1756944001,\n",
       " 'time_next_update_utc': 'Thu, 04 Sep 2025 00:00:01 +0000',\n",
       " 'base_code': 'USD',\n",
       " 'target_code': 'INR',\n",
       " 'conversion_rate': 88.1036}"
      ]
     },
     "execution_count": 4,
     "metadata": {},
     "output_type": "execute_result"
    }
   ],
   "source": [
    "get_conversion_factor.invoke({'base_currency':'USD', 'target_currency':'INR'})"
   ]
  },
  {
   "cell_type": "code",
   "execution_count": 29,
   "id": "dac6f08c",
   "metadata": {},
   "outputs": [],
   "source": [
    "from langchain_core.tools import tool\n",
    "\n",
    "@tool\n",
    "def convert(base_currency_value: float, conversion_rate: float) -> float:\n",
    "    \"\"\"\n",
    "    Given a base currency value and a conversion rate, this function calculates\n",
    "    the target currency value.\n",
    "    \"\"\"\n",
    "    return base_currency_value * conversion_rate\n"
   ]
  },
  {
   "cell_type": "code",
   "execution_count": 30,
   "id": "c8841770",
   "metadata": {},
   "outputs": [
    {
     "data": {
      "text/plain": [
       "{'result': 'success',\n",
       " 'documentation': 'https://www.exchangerate-api.com/docs',\n",
       " 'terms_of_use': 'https://www.exchangerate-api.com/terms',\n",
       " 'time_last_update_unix': 1756857601,\n",
       " 'time_last_update_utc': 'Wed, 03 Sep 2025 00:00:01 +0000',\n",
       " 'time_next_update_unix': 1756944001,\n",
       " 'time_next_update_utc': 'Thu, 04 Sep 2025 00:00:01 +0000',\n",
       " 'base_code': 'USD',\n",
       " 'target_code': 'INR',\n",
       " 'conversion_rate': 88.1036}"
      ]
     },
     "execution_count": 30,
     "metadata": {},
     "output_type": "execute_result"
    }
   ],
   "source": [
    "get_conversion_factor.invoke({'base_currency':'USD', 'target_currency': 'INR'})"
   ]
  },
  {
   "cell_type": "code",
   "execution_count": 31,
   "id": "58471fae",
   "metadata": {},
   "outputs": [
    {
     "data": {
      "text/plain": [
       "881.0360000000001"
      ]
     },
     "execution_count": 31,
     "metadata": {},
     "output_type": "execute_result"
    }
   ],
   "source": [
    "convert.invoke({'base_currency_value': '10', 'conversion_rate': '88.1036'})\n"
   ]
  },
  {
   "cell_type": "code",
   "execution_count": 32,
   "id": "61409f35",
   "metadata": {},
   "outputs": [],
   "source": [
    "# tool binidng\n",
    "llm = ChatOpenAI()"
   ]
  },
  {
   "cell_type": "code",
   "execution_count": 33,
   "id": "b846c7f7",
   "metadata": {},
   "outputs": [],
   "source": [
    "llm_with_tools = llm.bind_tools([get_conversion_factor, convert])"
   ]
  },
  {
   "cell_type": "code",
   "execution_count": 34,
   "id": "58d47efd",
   "metadata": {},
   "outputs": [],
   "source": [
    "messages = [HumanMessage('What is the conversion factor between USD and IND, and based on that can you convert 10 usd to inr')]"
   ]
  },
  {
   "cell_type": "code",
   "execution_count": 35,
   "id": "a48109ae",
   "metadata": {},
   "outputs": [
    {
     "data": {
      "text/plain": [
       "[HumanMessage(content='What is the conversion factor between USD and IND, and based on that can you convert 10 usd to inr', additional_kwargs={}, response_metadata={})]"
      ]
     },
     "execution_count": 35,
     "metadata": {},
     "output_type": "execute_result"
    }
   ],
   "source": [
    "messages"
   ]
  },
  {
   "cell_type": "code",
   "execution_count": 36,
   "id": "b8092e00",
   "metadata": {},
   "outputs": [],
   "source": [
    "ai_messages = llm_with_tools.invoke(messages)"
   ]
  },
  {
   "cell_type": "code",
   "execution_count": 37,
   "id": "939f8781",
   "metadata": {},
   "outputs": [
    {
     "data": {
      "text/plain": [
       "[{'name': 'get_conversion_factor',\n",
       "  'args': {'base_currency': 'USD', 'target_currency': 'INR'},\n",
       "  'id': 'call_2BGyAXCDhNhbyTpHljwNjWoH',\n",
       "  'type': 'tool_call'},\n",
       " {'name': 'convert',\n",
       "  'args': {'base_currency_value': 10, 'conversion_rate': 73.68},\n",
       "  'id': 'call_21g2gVwiDujB6RvTzwakvksd',\n",
       "  'type': 'tool_call'}]"
      ]
     },
     "execution_count": 37,
     "metadata": {},
     "output_type": "execute_result"
    }
   ],
   "source": [
    "ai_messages.tool_calls"
   ]
  },
  {
   "cell_type": "code",
   "execution_count": 47,
   "id": "a1d9cc11",
   "metadata": {},
   "outputs": [
    {
     "name": "stdout",
     "output_type": "stream",
     "text": [
      "content='{\"result\": \"success\", \"documentation\": \"https://www.exchangerate-api.com/docs\", \"terms_of_use\": \"https://www.exchangerate-api.com/terms\", \"time_last_update_unix\": 1756857601, \"time_last_update_utc\": \"Wed, 03 Sep 2025 00:00:01 +0000\", \"time_next_update_unix\": 1756944001, \"time_next_update_utc\": \"Thu, 04 Sep 2025 00:00:01 +0000\", \"base_code\": \"USD\", \"target_code\": \"INR\", \"conversion_rate\": 88.1036}' name='get_conversion_factor' tool_call_id='call_2BGyAXCDhNhbyTpHljwNjWoH'\n"
     ]
    }
   ],
   "source": [
    "import json\n",
    "for tool_call  in ai_messages.tool_calls:\n",
    "    if tool_call['name'] == 'get_conversion_factor':\n",
    "        tool_message1 = get_conversion_factor.invoke(tool_call)\n",
    "        print(tool_message1)\n",
    "\n",
    "# fetching the conversion rate\n",
    "conversion_rate = (json.loads(tool_message1.content)['conversion_rate'])\n",
    "\n",
    "# appending thw tool message to message list\n",
    "messages.append(tool_message1)\n",
    "# execute the 2nd tool using the conversion rate from tool 1 \n",
    "if tool_call['name'] == 'convert':\n",
    "    # fetching the curent arg\n",
    "    tool_call['args']['conversion_rate'] = conversion_rate\n",
    "    tool_messages2 = convert.invoke(tool_call)\n",
    "    messages.append(tool_messages2)"
   ]
  },
  {
   "cell_type": "code",
   "execution_count": 50,
   "id": "775b6ca7",
   "metadata": {},
   "outputs": [
    {
     "data": {
      "text/plain": [
       "[HumanMessage(content='What is the conversion factor between USD and IND, and based on that can you convert 10 usd to inr', additional_kwargs={}, response_metadata={}),\n",
       " ToolMessage(content='{\"result\": \"success\", \"documentation\": \"https://www.exchangerate-api.com/docs\", \"terms_of_use\": \"https://www.exchangerate-api.com/terms\", \"time_last_update_unix\": 1756857601, \"time_last_update_utc\": \"Wed, 03 Sep 2025 00:00:01 +0000\", \"time_next_update_unix\": 1756944001, \"time_next_update_utc\": \"Thu, 04 Sep 2025 00:00:01 +0000\", \"base_code\": \"USD\", \"target_code\": \"INR\", \"conversion_rate\": 88.1036}', name='get_conversion_factor', tool_call_id='call_2BGyAXCDhNhbyTpHljwNjWoH'),\n",
       " ToolMessage(content='{\"result\": \"success\", \"documentation\": \"https://www.exchangerate-api.com/docs\", \"terms_of_use\": \"https://www.exchangerate-api.com/terms\", \"time_last_update_unix\": 1756857601, \"time_last_update_utc\": \"Wed, 03 Sep 2025 00:00:01 +0000\", \"time_next_update_unix\": 1756944001, \"time_next_update_utc\": \"Thu, 04 Sep 2025 00:00:01 +0000\", \"base_code\": \"USD\", \"target_code\": \"INR\", \"conversion_rate\": 88.1036}', name='get_conversion_factor', tool_call_id='call_2BGyAXCDhNhbyTpHljwNjWoH'),\n",
       " ToolMessage(content='{\"result\": \"success\", \"documentation\": \"https://www.exchangerate-api.com/docs\", \"terms_of_use\": \"https://www.exchangerate-api.com/terms\", \"time_last_update_unix\": 1756857601, \"time_last_update_utc\": \"Wed, 03 Sep 2025 00:00:01 +0000\", \"time_next_update_unix\": 1756944001, \"time_next_update_utc\": \"Thu, 04 Sep 2025 00:00:01 +0000\", \"base_code\": \"USD\", \"target_code\": \"INR\", \"conversion_rate\": 88.1036}', name='get_conversion_factor', tool_call_id='call_2BGyAXCDhNhbyTpHljwNjWoH'),\n",
       " ToolMessage(content='{\"result\": \"success\", \"documentation\": \"https://www.exchangerate-api.com/docs\", \"terms_of_use\": \"https://www.exchangerate-api.com/terms\", \"time_last_update_unix\": 1756857601, \"time_last_update_utc\": \"Wed, 03 Sep 2025 00:00:01 +0000\", \"time_next_update_unix\": 1756944001, \"time_next_update_utc\": \"Thu, 04 Sep 2025 00:00:01 +0000\", \"base_code\": \"USD\", \"target_code\": \"INR\", \"conversion_rate\": 88.1036}', name='get_conversion_factor', tool_call_id='call_2BGyAXCDhNhbyTpHljwNjWoH'),\n",
       " ToolMessage(content='881.0360000000001', name='convert', tool_call_id='call_21g2gVwiDujB6RvTzwakvksd')]"
      ]
     },
     "execution_count": 50,
     "metadata": {},
     "output_type": "execute_result"
    }
   ],
   "source": [
    "messages"
   ]
  },
  {
   "cell_type": "code",
   "execution_count": null,
   "id": "11e9da51",
   "metadata": {},
   "outputs": [],
   "source": [
    "llm_with_tools.invoke(messages).content"
   ]
  },
  {
   "cell_type": "code",
   "execution_count": null,
   "id": "35704439",
   "metadata": {},
   "outputs": [],
   "source": []
  }
 ],
 "metadata": {
  "kernelspec": {
   "display_name": "venv",
   "language": "python",
   "name": "python3"
  },
  "language_info": {
   "codemirror_mode": {
    "name": "ipython",
    "version": 3
   },
   "file_extension": ".py",
   "mimetype": "text/x-python",
   "name": "python",
   "nbconvert_exporter": "python",
   "pygments_lexer": "ipython3",
   "version": "3.10.11"
  }
 },
 "nbformat": 4,
 "nbformat_minor": 5
}
